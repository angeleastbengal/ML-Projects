{
 "cells": [
  {
   "cell_type": "markdown",
   "metadata": {
    "colab_type": "text",
    "id": "5IIstFzwcpJE"
   },
   "source": [
    "### Linear Regression using TensorFlow\n",
    "\n",
    "**Predicting the price of a car using a neural network mindset**"
   ]
  },
  {
   "cell_type": "markdown",
   "metadata": {
    "colab_type": "text",
    "id": "EkKHyKfRFwYG"
   },
   "source": [
    "#### Let us start with mounting our drive to be able to use the dataset stored in our dataset.\n",
    "\n",
    "Install the following: (Optional, Not needed for this analysis, used when connecting directly to google.colab)\n",
    "\n",
    "1. pip install google\n",
    "\n",
    "2. pip install --upgrade google-api-python-client\n",
    "\n",
    "3. pip install google-colab"
   ]
  },
  {
   "cell_type": "code",
   "execution_count": 1,
   "metadata": {
    "colab": {
     "base_uri": "https://localhost:8080/",
     "height": 125
    },
    "colab_type": "code",
    "id": "5DN8Ab6qxpoG",
    "outputId": "7c82498c-e3cf-4c44-97ee-d0dc21954bf1"
   },
   "outputs": [],
   "source": [
    "# import google\n",
    "# from google.colab import drive\n",
    "# # drive.mount('/content/drive')"
   ]
  },
  {
   "cell_type": "markdown",
   "metadata": {
    "colab_type": "text",
    "id": "ykQXiPSPF_rf"
   },
   "source": [
    "#### Now, let us install the latest version of tensorflow.\n"
   ]
  },
  {
   "cell_type": "code",
   "execution_count": 2,
   "metadata": {
    "colab": {
     "base_uri": "https://localhost:8080/",
     "height": 107
    },
    "colab_type": "code",
    "id": "tvNefLdVoZNz",
    "outputId": "610eaea2-b4c5-4fda-d4ae-dd94eb2d3abd"
   },
   "outputs": [],
   "source": [
    "# !pip install tensorflow"
   ]
  },
  {
   "cell_type": "markdown",
   "metadata": {
    "colab_type": "text",
    "id": "EvmX8Lp1GOSn"
   },
   "source": [
    "##### Check the version of the installation"
   ]
  },
  {
   "cell_type": "code",
   "execution_count": 3,
   "metadata": {
    "colab": {
     "base_uri": "https://localhost:8080/",
     "height": 34
    },
    "colab_type": "code",
    "id": "ry8J8nA4ocet",
    "outputId": "d8b73891-6b43-438b-a249-5935c42f758f"
   },
   "outputs": [
    {
     "name": "stdout",
     "output_type": "stream",
     "text": [
      "2.2.0\n"
     ]
    }
   ],
   "source": [
    "import tensorflow as tf\n",
    "print(tf.__version__)"
   ]
  },
  {
   "cell_type": "markdown",
   "metadata": {
    "colab_type": "text",
    "id": "ycFapGk6GTSi"
   },
   "source": [
    "Now Let us import out data and get it ready for modelling."
   ]
  },
  {
   "cell_type": "code",
   "execution_count": 4,
   "metadata": {
    "colab": {
     "base_uri": "https://localhost:8080/",
     "height": 406
    },
    "colab_type": "code",
    "id": "hKt0pILMz_sn",
    "outputId": "0dbde4cb-9312-4727-fb89-11471ccc0d4b"
   },
   "outputs": [],
   "source": [
    "import pandas as pd\n",
    "import numpy as np"
   ]
  },
  {
   "cell_type": "markdown",
   "metadata": {},
   "source": [
    "#### Read the required Dataset"
   ]
  },
  {
   "cell_type": "code",
   "execution_count": 5,
   "metadata": {},
   "outputs": [
    {
     "data": {
      "text/html": [
       "<div>\n",
       "<style scoped>\n",
       "    .dataframe tbody tr th:only-of-type {\n",
       "        vertical-align: middle;\n",
       "    }\n",
       "\n",
       "    .dataframe tbody tr th {\n",
       "        vertical-align: top;\n",
       "    }\n",
       "\n",
       "    .dataframe thead th {\n",
       "        text-align: right;\n",
       "    }\n",
       "</style>\n",
       "<table border=\"1\" class=\"dataframe\">\n",
       "  <thead>\n",
       "    <tr style=\"text-align: right;\">\n",
       "      <th></th>\n",
       "      <th>year</th>\n",
       "      <th>model</th>\n",
       "      <th>price</th>\n",
       "      <th>mileage</th>\n",
       "      <th>color</th>\n",
       "      <th>transmission</th>\n",
       "    </tr>\n",
       "  </thead>\n",
       "  <tbody>\n",
       "    <tr>\n",
       "      <th>0</th>\n",
       "      <td>2011</td>\n",
       "      <td>SEL</td>\n",
       "      <td>21992</td>\n",
       "      <td>7413</td>\n",
       "      <td>Yellow</td>\n",
       "      <td>AUTO</td>\n",
       "    </tr>\n",
       "    <tr>\n",
       "      <th>1</th>\n",
       "      <td>2011</td>\n",
       "      <td>SEL</td>\n",
       "      <td>20995</td>\n",
       "      <td>10926</td>\n",
       "      <td>Gray</td>\n",
       "      <td>AUTO</td>\n",
       "    </tr>\n",
       "    <tr>\n",
       "      <th>2</th>\n",
       "      <td>2011</td>\n",
       "      <td>SEL</td>\n",
       "      <td>19995</td>\n",
       "      <td>7351</td>\n",
       "      <td>Silver</td>\n",
       "      <td>AUTO</td>\n",
       "    </tr>\n",
       "    <tr>\n",
       "      <th>3</th>\n",
       "      <td>2011</td>\n",
       "      <td>SEL</td>\n",
       "      <td>17809</td>\n",
       "      <td>11613</td>\n",
       "      <td>Gray</td>\n",
       "      <td>AUTO</td>\n",
       "    </tr>\n",
       "    <tr>\n",
       "      <th>4</th>\n",
       "      <td>2012</td>\n",
       "      <td>SE</td>\n",
       "      <td>17500</td>\n",
       "      <td>8367</td>\n",
       "      <td>White</td>\n",
       "      <td>AUTO</td>\n",
       "    </tr>\n",
       "  </tbody>\n",
       "</table>\n",
       "</div>"
      ],
      "text/plain": [
       "   year model  price  mileage   color transmission\n",
       "0  2011   SEL  21992     7413  Yellow         AUTO\n",
       "1  2011   SEL  20995    10926    Gray         AUTO\n",
       "2  2011   SEL  19995     7351  Silver         AUTO\n",
       "3  2011   SEL  17809    11613    Gray         AUTO\n",
       "4  2012    SE  17500     8367   White         AUTO"
      ]
     },
     "execution_count": 5,
     "metadata": {},
     "output_type": "execute_result"
    }
   ],
   "source": [
    "#--Read the usedcars.csv and store it in the data frame, cars_data. You need to replace None with the appropriate syntax\n",
    "cars_data = pd.read_csv('usedcars.csv')\n",
    "cars_data.head()"
   ]
  },
  {
   "cell_type": "markdown",
   "metadata": {},
   "source": [
    "#### Checking for missing value"
   ]
  },
  {
   "cell_type": "code",
   "execution_count": 6,
   "metadata": {
    "colab": {
     "base_uri": "https://localhost:8080/",
     "height": 141
    },
    "colab_type": "code",
    "id": "nX1zbyI75RMi",
    "outputId": "07d0b751-a19f-4cf1-a45f-f077df892682"
   },
   "outputs": [
    {
     "data": {
      "text/plain": [
       "0"
      ]
     },
     "execution_count": 6,
     "metadata": {},
     "output_type": "execute_result"
    }
   ],
   "source": [
    "cars_data.isna().sum().sum()"
   ]
  },
  {
   "cell_type": "markdown",
   "metadata": {},
   "source": [
    "#### Let's drop duplicates if any"
   ]
  },
  {
   "cell_type": "code",
   "execution_count": 7,
   "metadata": {
    "colab": {
     "base_uri": "https://localhost:8080/",
     "height": 426
    },
    "colab_type": "code",
    "id": "KuU03qQk1WfW",
    "outputId": "c85ce2ab-cccb-41f7-be51-b9a18fdc9b37"
   },
   "outputs": [],
   "source": [
    "#just some basic preprocessing\n",
    "cars_data.drop_duplicates(inplace=True)"
   ]
  },
  {
   "cell_type": "markdown",
   "metadata": {},
   "source": [
    "#### Converting categorical variables to dummies\n",
    "\n",
    "use the pd.get_dummies() to create dummy of all categorical variable. Note we won't be using drop_first=True for the following analysis here. Replace \"None\" in the code below with the correct syntax."
   ]
  },
  {
   "cell_type": "code",
   "execution_count": 8,
   "metadata": {},
   "outputs": [
    {
     "data": {
      "text/html": [
       "<div>\n",
       "<style scoped>\n",
       "    .dataframe tbody tr th:only-of-type {\n",
       "        vertical-align: middle;\n",
       "    }\n",
       "\n",
       "    .dataframe tbody tr th {\n",
       "        vertical-align: top;\n",
       "    }\n",
       "\n",
       "    .dataframe thead th {\n",
       "        text-align: right;\n",
       "    }\n",
       "</style>\n",
       "<table border=\"1\" class=\"dataframe\">\n",
       "  <thead>\n",
       "    <tr style=\"text-align: right;\">\n",
       "      <th></th>\n",
       "      <th>year</th>\n",
       "      <th>price</th>\n",
       "      <th>mileage</th>\n",
       "      <th>model_SE</th>\n",
       "      <th>model_SEL</th>\n",
       "      <th>model_SES</th>\n",
       "      <th>color_Black</th>\n",
       "      <th>color_Blue</th>\n",
       "      <th>color_Gold</th>\n",
       "      <th>color_Gray</th>\n",
       "      <th>color_Green</th>\n",
       "      <th>color_Red</th>\n",
       "      <th>color_Silver</th>\n",
       "      <th>color_White</th>\n",
       "      <th>color_Yellow</th>\n",
       "      <th>transmission_AUTO</th>\n",
       "      <th>transmission_MANUAL</th>\n",
       "    </tr>\n",
       "  </thead>\n",
       "  <tbody>\n",
       "    <tr>\n",
       "      <th>0</th>\n",
       "      <td>2011.0</td>\n",
       "      <td>21992.0</td>\n",
       "      <td>7413.0</td>\n",
       "      <td>0.0</td>\n",
       "      <td>1.0</td>\n",
       "      <td>0.0</td>\n",
       "      <td>0.0</td>\n",
       "      <td>0.0</td>\n",
       "      <td>0.0</td>\n",
       "      <td>0.0</td>\n",
       "      <td>0.0</td>\n",
       "      <td>0.0</td>\n",
       "      <td>0.0</td>\n",
       "      <td>0.0</td>\n",
       "      <td>1.0</td>\n",
       "      <td>1.0</td>\n",
       "      <td>0.0</td>\n",
       "    </tr>\n",
       "    <tr>\n",
       "      <th>1</th>\n",
       "      <td>2011.0</td>\n",
       "      <td>20995.0</td>\n",
       "      <td>10926.0</td>\n",
       "      <td>0.0</td>\n",
       "      <td>1.0</td>\n",
       "      <td>0.0</td>\n",
       "      <td>0.0</td>\n",
       "      <td>0.0</td>\n",
       "      <td>0.0</td>\n",
       "      <td>1.0</td>\n",
       "      <td>0.0</td>\n",
       "      <td>0.0</td>\n",
       "      <td>0.0</td>\n",
       "      <td>0.0</td>\n",
       "      <td>0.0</td>\n",
       "      <td>1.0</td>\n",
       "      <td>0.0</td>\n",
       "    </tr>\n",
       "    <tr>\n",
       "      <th>2</th>\n",
       "      <td>2011.0</td>\n",
       "      <td>19995.0</td>\n",
       "      <td>7351.0</td>\n",
       "      <td>0.0</td>\n",
       "      <td>1.0</td>\n",
       "      <td>0.0</td>\n",
       "      <td>0.0</td>\n",
       "      <td>0.0</td>\n",
       "      <td>0.0</td>\n",
       "      <td>0.0</td>\n",
       "      <td>0.0</td>\n",
       "      <td>0.0</td>\n",
       "      <td>1.0</td>\n",
       "      <td>0.0</td>\n",
       "      <td>0.0</td>\n",
       "      <td>1.0</td>\n",
       "      <td>0.0</td>\n",
       "    </tr>\n",
       "    <tr>\n",
       "      <th>3</th>\n",
       "      <td>2011.0</td>\n",
       "      <td>17809.0</td>\n",
       "      <td>11613.0</td>\n",
       "      <td>0.0</td>\n",
       "      <td>1.0</td>\n",
       "      <td>0.0</td>\n",
       "      <td>0.0</td>\n",
       "      <td>0.0</td>\n",
       "      <td>0.0</td>\n",
       "      <td>1.0</td>\n",
       "      <td>0.0</td>\n",
       "      <td>0.0</td>\n",
       "      <td>0.0</td>\n",
       "      <td>0.0</td>\n",
       "      <td>0.0</td>\n",
       "      <td>1.0</td>\n",
       "      <td>0.0</td>\n",
       "    </tr>\n",
       "    <tr>\n",
       "      <th>4</th>\n",
       "      <td>2012.0</td>\n",
       "      <td>17500.0</td>\n",
       "      <td>8367.0</td>\n",
       "      <td>1.0</td>\n",
       "      <td>0.0</td>\n",
       "      <td>0.0</td>\n",
       "      <td>0.0</td>\n",
       "      <td>0.0</td>\n",
       "      <td>0.0</td>\n",
       "      <td>0.0</td>\n",
       "      <td>0.0</td>\n",
       "      <td>0.0</td>\n",
       "      <td>0.0</td>\n",
       "      <td>1.0</td>\n",
       "      <td>0.0</td>\n",
       "      <td>1.0</td>\n",
       "      <td>0.0</td>\n",
       "    </tr>\n",
       "  </tbody>\n",
       "</table>\n",
       "</div>"
      ],
      "text/plain": [
       "     year    price  mileage  model_SE  model_SEL  model_SES  color_Black  \\\n",
       "0  2011.0  21992.0   7413.0       0.0        1.0        0.0          0.0   \n",
       "1  2011.0  20995.0  10926.0       0.0        1.0        0.0          0.0   \n",
       "2  2011.0  19995.0   7351.0       0.0        1.0        0.0          0.0   \n",
       "3  2011.0  17809.0  11613.0       0.0        1.0        0.0          0.0   \n",
       "4  2012.0  17500.0   8367.0       1.0        0.0        0.0          0.0   \n",
       "\n",
       "   color_Blue  color_Gold  color_Gray  color_Green  color_Red  color_Silver  \\\n",
       "0         0.0         0.0         0.0          0.0        0.0           0.0   \n",
       "1         0.0         0.0         1.0          0.0        0.0           0.0   \n",
       "2         0.0         0.0         0.0          0.0        0.0           1.0   \n",
       "3         0.0         0.0         1.0          0.0        0.0           0.0   \n",
       "4         0.0         0.0         0.0          0.0        0.0           0.0   \n",
       "\n",
       "   color_White  color_Yellow  transmission_AUTO  transmission_MANUAL  \n",
       "0          0.0           1.0                1.0                  0.0  \n",
       "1          0.0           0.0                1.0                  0.0  \n",
       "2          0.0           0.0                1.0                  0.0  \n",
       "3          0.0           0.0                1.0                  0.0  \n",
       "4          1.0           0.0                1.0                  0.0  "
      ]
     },
     "execution_count": 8,
     "metadata": {},
     "output_type": "execute_result"
    }
   ],
   "source": [
    "\n",
    "#creating dummy variables for the categorical features\n",
    "cars_data = pd.get_dummies(cars_data)\n",
    "\n",
    "cars_data = cars_data.astype('float32') # we will need to convert the dataset to float in order to be able to convert it into tensors later.\n",
    "cars_data.head()\n"
   ]
  },
  {
   "cell_type": "code",
   "execution_count": 9,
   "metadata": {},
   "outputs": [
    {
     "data": {
      "text/plain": [
       "(150, 17)"
      ]
     },
     "execution_count": 9,
     "metadata": {},
     "output_type": "execute_result"
    }
   ],
   "source": [
    "cars_data.shape"
   ]
  },
  {
   "cell_type": "code",
   "execution_count": 10,
   "metadata": {
    "colab": {
     "base_uri": "https://localhost:8080/",
     "height": 105
    },
    "colab_type": "code",
    "id": "y4YBIUaZ5zG4",
    "outputId": "0a497400-2af1-4959-8323-23a519ae51a2"
   },
   "outputs": [
    {
     "data": {
      "text/plain": [
       "Index(['year', 'price', 'mileage', 'model_SE', 'model_SEL', 'model_SES',\n",
       "       'color_Black', 'color_Blue', 'color_Gold', 'color_Gray', 'color_Green',\n",
       "       'color_Red', 'color_Silver', 'color_White', 'color_Yellow',\n",
       "       'transmission_AUTO', 'transmission_MANUAL'],\n",
       "      dtype='object')"
      ]
     },
     "execution_count": 10,
     "metadata": {},
     "output_type": "execute_result"
    }
   ],
   "source": [
    "#explorinfg column names\n",
    "cars_data.columns"
   ]
  },
  {
   "cell_type": "markdown",
   "metadata": {},
   "source": [
    "**Single Neuron Neural Network for Linear Regression**:\n",
    "\n",
    "**Also known as - Single neuron == linear regression without applying activation(perceptron) **\n",
    "\n",
    "<img src=\"TF-Output3.png\" style=\"width:800px;height:500px;\">"
   ]
  },
  {
   "cell_type": "markdown",
   "metadata": {},
   "source": [
    "**Reminder**: \n",
    "\n",
    "The general methodology to build a Neural Network is to:\n",
    "    1. Define the neural network structure ( # of input units,  # of hidden units, etc). \n",
    "    2. Initialize the model's parameters\n",
    "    3. Loop:\n",
    "        - Implement forward propagation\n",
    "        - Compute loss\n",
    "        - Implement backward propagation to get the gradients\n",
    "        - Update parameters (gradient descent)"
   ]
  },
  {
   "cell_type": "markdown",
   "metadata": {},
   "source": [
    "#### Creating training and test data\n",
    "\n",
    "Note the dependent variable is price, rest are independent variable. Replace \"None\" below with the required column names."
   ]
  },
  {
   "cell_type": "code",
   "execution_count": 11,
   "metadata": {
    "colab": {
     "base_uri": "https://localhost:8080/",
     "height": 247
    },
    "colab_type": "code",
    "id": "xhihQaPY6LfN",
    "outputId": "209bfd93-a70d-42cb-ed90-523102f33865"
   },
   "outputs": [],
   "source": [
    "#getting the features and labels and finally splitting the test and train data.\n",
    "\n",
    "\n",
    "from sklearn.model_selection import train_test_split\n",
    "\n",
    "X = cars_data[['year',  'mileage', 'model_SE', 'model_SEL', 'model_SES',\n",
    "       'color_Black', 'color_Blue', 'color_Gold', 'color_Gray', 'color_Green',\n",
    "       'color_Red', 'color_Silver', 'color_White', 'color_Yellow',\n",
    "       'transmission_AUTO', 'transmission_MANUAL']]\n",
    "Y = cars_data['price']\n",
    "\n",
    "\n",
    "X_train, X_test, y_train, y_test = train_test_split(X, Y, test_size=0.20, random_state=1)"
   ]
  },
  {
   "cell_type": "code",
   "execution_count": 12,
   "metadata": {},
   "outputs": [
    {
     "data": {
      "text/plain": [
       "(120, 16)"
      ]
     },
     "execution_count": 12,
     "metadata": {},
     "output_type": "execute_result"
    }
   ],
   "source": [
    "X_train.shape"
   ]
  },
  {
   "cell_type": "code",
   "execution_count": 13,
   "metadata": {},
   "outputs": [
    {
     "data": {
      "text/plain": [
       "array([[0.75      , 0.27928138, 0.        , ..., 0.        , 1.        ,\n",
       "        0.        ],\n",
       "       [0.58332825, 0.5233474 , 0.        , ..., 1.        , 0.        ,\n",
       "        1.        ],\n",
       "       [0.75      , 0.21721278, 1.        , ..., 0.        , 1.        ,\n",
       "        0.        ],\n",
       "       ...,\n",
       "       [0.83332825, 0.20944397, 0.        , ..., 0.        , 1.        ,\n",
       "        0.        ],\n",
       "       [0.33332825, 0.6878496 , 1.        , ..., 0.        , 1.        ,\n",
       "        0.        ],\n",
       "       [0.83332825, 0.2253431 , 1.        , ..., 0.        , 1.        ,\n",
       "        0.        ]], dtype=float32)"
      ]
     },
     "execution_count": 13,
     "metadata": {},
     "output_type": "execute_result"
    }
   ],
   "source": [
    "#let us scale the data as features are on different scales which might be a problem while modelling\n",
    "from sklearn import preprocessing\n",
    "scaler = preprocessing.MinMaxScaler()\n",
    "\n",
    "# MinMaxScalar has been used here. You can go ahead and use the other scalars available and chcek the effect on the results.\n",
    "#fitting the transform on test and train separately\n",
    "\n",
    "X_train = scaler.fit_transform(X_train)\n",
    "X_test = scaler.transform(X_test)\n",
    "X_train"
   ]
  },
  {
   "cell_type": "markdown",
   "metadata": {},
   "source": [
    "#### Inorder to use Tensor Flow for this analysis, we need convert the datasets into tensors"
   ]
  },
  {
   "cell_type": "code",
   "execution_count": 14,
   "metadata": {
    "colab": {},
    "colab_type": "code",
    "id": "PHjzg7vF5z0T"
   },
   "outputs": [],
   "source": [
    "# let us now convert the data elements into tensors as we need tensors to be fed into different tensorflow based operations\n",
    "#X-train and X_test were converted to numpy arrays while transformations while the other two need \n",
    "#to be transformed into numpy arrays.\n",
    "\n",
    "X_train=tf.convert_to_tensor(X_train)\n",
    "y_train=tf.convert_to_tensor(y_train.values)\n",
    "X_test=tf.convert_to_tensor(X_test)\n",
    "y_test=tf.convert_to_tensor(y_test.values)\n"
   ]
  },
  {
   "cell_type": "markdown",
   "metadata": {},
   "source": [
    "#### Defining the neural network structure\n",
    "Exercise: Define three variables:\n",
    "\n",
    "- n_x: the size of the input layer (i.e. number of independent variables)\n",
    "- n_h: the size of the hidden layer (set this to 1, number of neurons) \n",
    "- n_y: the size of the output layer (i.e. number of output variable)\n",
    "Hint: Use shapes of X and Y to find n_x and n_y. Also, hard code the hidden layer size to be 1."
   ]
  },
  {
   "cell_type": "code",
   "execution_count": 15,
   "metadata": {},
   "outputs": [],
   "source": [
    "def layer_sizes(X, Y):\n",
    "    \"\"\"\n",
    "    Arguments:\n",
    "    X -- input dataset of shape (input size, number of examples)\n",
    "    Y -- labels of shape (output size, number of examples)\n",
    "    \n",
    "    Returns:\n",
    "    n_x -- the size of the input layer\n",
    "    n_h -- the size of the hidden layer\n",
    "    n_y -- the size of the output layer\n",
    "    \"\"\"\n",
    "    ### START CODE HERE ### (≈ 3 lines of code)\n",
    "    n_x = X.shape[0] # size of input layer\n",
    "    n_h = 1\n",
    "    n_y = 1 # size of output layer\n",
    "    ### END CODE HERE ###\n",
    "    return (n_x, n_h, n_y)"
   ]
  },
  {
   "cell_type": "code",
   "execution_count": 16,
   "metadata": {},
   "outputs": [
    {
     "name": "stdout",
     "output_type": "stream",
     "text": [
      "The size of the input layer is: n_x = 120\n",
      "The size of the hidden layer is: n_h = 1\n",
      "The size of the output layer is: n_y = 1\n"
     ]
    }
   ],
   "source": [
    "(n_x, n_h, n_y) = layer_sizes(X_train, y_train)\n",
    "print(\"The size of the input layer is: n_x = \" + str(n_x))\n",
    "print(\"The size of the hidden layer is: n_h = \" + str(n_h))\n",
    "print(\"The size of the output layer is: n_y = \" + str(n_y))"
   ]
  },
  {
   "cell_type": "code",
   "execution_count": 17,
   "metadata": {
    "colab": {
     "base_uri": "https://localhost:8080/",
     "height": 34
    },
    "colab_type": "code",
    "id": "6ZEQAKqs66EO",
    "outputId": "86cd1d2a-4233-4dea-b7b8-c5d60571d8b0"
   },
   "outputs": [
    {
     "data": {
      "text/plain": [
       "'X Train:'"
      ]
     },
     "metadata": {},
     "output_type": "display_data"
    },
    {
     "data": {
      "text/plain": [
       "TensorShape([120, 16])"
      ]
     },
     "metadata": {},
     "output_type": "display_data"
    },
    {
     "data": {
      "text/plain": [
       "'X Test:'"
      ]
     },
     "metadata": {},
     "output_type": "display_data"
    },
    {
     "data": {
      "text/plain": [
       "TensorShape([30])"
      ]
     },
     "metadata": {},
     "output_type": "display_data"
    },
    {
     "data": {
      "text/plain": [
       "'Y Train:'"
      ]
     },
     "metadata": {},
     "output_type": "display_data"
    },
    {
     "data": {
      "text/plain": [
       "TensorShape([120, 16])"
      ]
     },
     "metadata": {},
     "output_type": "display_data"
    },
    {
     "data": {
      "text/plain": [
       "'Y Test:'"
      ]
     },
     "metadata": {},
     "output_type": "display_data"
    },
    {
     "data": {
      "text/plain": [
       "TensorShape([30])"
      ]
     },
     "metadata": {},
     "output_type": "display_data"
    }
   ],
   "source": [
    "display(\"X Train:\",X_train.shape)\n",
    "display(\"X Test:\",y_test.shape)\n",
    "display(\"Y Train:\",X_train.shape)\n",
    "display(\"Y Test:\",y_test.shape)"
   ]
  },
  {
   "cell_type": "markdown",
   "metadata": {},
   "source": [
    "#### We need to declare Weights and bias of the data"
   ]
  },
  {
   "cell_type": "code",
   "execution_count": 18,
   "metadata": {},
   "outputs": [
    {
     "data": {
      "text/plain": [
       "<tf.Variable 'Variable:0' shape=(16, 1) dtype=float32, numpy=\n",
       "array([[0.],\n",
       "       [0.],\n",
       "       [0.],\n",
       "       [0.],\n",
       "       [0.],\n",
       "       [0.],\n",
       "       [0.],\n",
       "       [0.],\n",
       "       [0.],\n",
       "       [0.],\n",
       "       [0.],\n",
       "       [0.],\n",
       "       [0.],\n",
       "       [0.],\n",
       "       [0.],\n",
       "       [0.]], dtype=float32)>"
      ]
     },
     "metadata": {},
     "output_type": "display_data"
    },
    {
     "data": {
      "text/plain": [
       "<tf.Variable 'Variable:0' shape=(1,) dtype=float32, numpy=array([1.], dtype=float32)>"
      ]
     },
     "metadata": {},
     "output_type": "display_data"
    }
   ],
   "source": [
    "input_dim = X_train.shape[1]\n",
    "output_dim = 1\n",
    "learning_rate = 0.01\n",
    "\n",
    "# Let us initialize the weights and bias variables. \n",
    "weights = tf.Variable(tf.zeros(shape=(input_dim, output_dim), dtype= tf.float32))\n",
    "display(weights)\n",
    "\n",
    "bias = tf.Variable(tf.ones(shape=(output_dim,), dtype= tf.float32))\n",
    "display(bias)"
   ]
  },
  {
   "cell_type": "markdown",
   "metadata": {},
   "source": [
    "**Note:**\n",
    "\n",
    "1. Since we have 16 input/independent variables, we need to have 16 weights\n",
    "\n",
    "2. We are utilizing one neuron here, hence we need one bias term"
   ]
  },
  {
   "cell_type": "markdown",
   "metadata": {},
   "source": [
    "**Note: All variables are stored as matrices, the input variable is a tensor matrix of size 120 x 16, the weight variable is a matrix of shape 16 x 1 and bias is set to 0. We need to perform a matrix multiplication to obtain the equation for every output.**\n",
    "\n",
    "If you are familiar with how matrix multiplication works, you will realise that the output will be a matrix of size 120 x 1\n",
    "\n",
    "<img src=\"TF-Output4.jpg\" style=\"width:800px;height:500px;\">\n"
   ]
  },
  {
   "cell_type": "markdown",
   "metadata": {},
   "source": [
    "Functions used below:\n",
    "\n",
    "1. matmul: Multiplies matrix a by matrix b, producing a * b.\n",
    "\n",
    "2. reduce_mean: Computes the mean of elements across dimensions of a tensor\n",
    "\n",
    "3. GradientTape(): Record operations for automatic differentiation.\n",
    "\n",
    "\n",
    "**Update the \"None\" in predict() function using the concepts from above**"
   ]
  },
  {
   "cell_type": "code",
   "execution_count": 19,
   "metadata": {
    "colab": {},
    "colab_type": "code",
    "id": "Uhitqoj2FH8U"
   },
   "outputs": [],
   "source": [
    "def predict(features):\n",
    "  return tf.matmul(features, weights) + bias # note that the matmul is matrix multiplication and is needed for calculating predictions\n",
    "\n",
    "def compute_loss(y_true, predictions):\n",
    "  return tf.reduce_mean(tf.square(y_true - predictions)) # mean square error"
   ]
  },
  {
   "cell_type": "markdown",
   "metadata": {},
   "source": [
    "**Once the output is calculated, we need to recalculate the weights using gradient descent**\n",
    "\n",
    "**Question**: Implement the update rule. Use gradient descent. You have to use derivative of weights and bias \n",
    "in order to update weights and bias.\n",
    "\n",
    "**General gradient descent rule**: $ \\theta = \\theta - \\alpha \\frac{\\partial J }{ \\partial \\theta }$ where $\\alpha$ is the learning rate and $\\theta$ represents a parameter.\n",
    "\n",
    "**Illustration**: The gradient descent algorithm with a good learning rate (converging) and a bad learning rate (diverging). Images courtesy of Adam Harley.\n",
    "\n",
    "<img src=\"sgd.gif\" style=\"width:400;height:400;\"> <img src=\"sgd_bad.gif\" style=\"width:400;height:400;\">"
   ]
  },
  {
   "cell_type": "code",
   "execution_count": 20,
   "metadata": {},
   "outputs": [],
   "source": [
    "# Let us now define a function to train the model. We will call the other functions in function definition.\n",
    "def train(x, y):\n",
    "    \n",
    "    #-------------Recalibrating the neural network\n",
    "    with tf.GradientTape() as tape:\n",
    "        \n",
    "        #----------------------Forward Propagation-----------------------------------\n",
    "\n",
    "        predictions = predict(x)\n",
    "        loss = compute_loss(y, predictions)\n",
    "\n",
    "        #--------------------Backward Propagation------------------------------------\n",
    "\n",
    "        dloss_dw, dloss_db = tape.gradient(loss, [weights, bias]) #note that we can pass lists as well here.\n",
    "\n",
    "        #--------------------Reassigning Weights based on learning rate and derivatives\n",
    "\n",
    "    weights.assign_sub(learning_rate * dloss_dw)\n",
    "    bias.assign_sub(learning_rate * dloss_db)\n",
    "\n",
    "    return loss "
   ]
  },
  {
   "cell_type": "markdown",
   "metadata": {
    "colab_type": "text",
    "id": "pcVzQimxJJe2"
   },
   "source": [
    "#### Let us now, call the train function with 500 epochs"
   ]
  },
  {
   "cell_type": "code",
   "execution_count": 23,
   "metadata": {
    "colab": {
     "base_uri": "https://localhost:8080/",
     "height": 1000
    },
    "colab_type": "code",
    "id": "rWFBawhVoM4j",
    "outputId": "3c56219e-5695-4b6c-f850-f35f90a1cf04"
   },
   "outputs": [
    {
     "name": "stdout",
     "output_type": "stream",
     "text": [
      "Final Weights after 500 epochs:\n",
      "###############################################################################\n",
      "<tf.Variable 'Variable:0' shape=(16, 1) dtype=float32, numpy=\n",
      "array([[2697.8462 ],\n",
      "       [1773.5265 ],\n",
      "       [1890.4213 ],\n",
      "       [1579.4885 ],\n",
      "       [1817.8314 ],\n",
      "       [ 654.1514 ],\n",
      "       [ 674.8424 ],\n",
      "       [  93.19248],\n",
      "       [ 721.20557],\n",
      "       [ 674.38544],\n",
      "       [ 741.1054 ],\n",
      "       [ 660.46313],\n",
      "       [ 544.62646],\n",
      "       [ 523.7726 ],\n",
      "       [2692.5276 ],\n",
      "       [2595.219  ]], dtype=float32)>\n",
      "Final Bias after 500 epochs:\n",
      "###############################################################################\n",
      "<tf.Variable 'Variable:0' shape=(1,) dtype=float32, numpy=array([5288.746], dtype=float32)>\n"
     ]
    }
   ],
   "source": [
    "\n",
    "for epoch in range(500):\n",
    "  loss = train(X_train, y_train)\n",
    "#   print('Epoch %d: Loss = %.4f' % (epoch, float(loss)))\n",
    "\n",
    "\n",
    "print('Final Weights after 500 epochs:')\n",
    "print('###############################################################################')\n",
    "print(weights)\n",
    "\n",
    "print('Final Bias after 500 epochs:')\n",
    "print('###############################################################################')\n",
    "print(bias)"
   ]
  },
  {
   "cell_type": "markdown",
   "metadata": {
    "colab_type": "text",
    "id": "bdgve0a7Jwwq"
   },
   "source": [
    "#### Let us now test our model on the test data and predict on the test data."
   ]
  },
  {
   "cell_type": "code",
   "execution_count": 22,
   "metadata": {
    "colab": {
     "base_uri": "https://localhost:8080/",
     "height": 34
    },
    "colab_type": "code",
    "id": "zyXnEJiyqNjv",
    "outputId": "18c90faf-25a3-4520-8ac4-c4f2f1f896c7"
   },
   "outputs": [
    {
     "name": "stdout",
     "output_type": "stream",
     "text": [
      "tf.Tensor(6689722.0, shape=(), dtype=float32)\n"
     ]
    }
   ],
   "source": [
    "test_predictions = tf.matmul(X_test, weights) + bias\n",
    "print(compute_loss(y_test, test_predictions))"
   ]
  }
 ],
 "metadata": {
  "colab": {
   "name": "Tensorflow_Mentor_Session_Case_Study_W1_Intro_to_NN.ipynb",
   "provenance": []
  },
  "kernelspec": {
   "display_name": "Python 3",
   "language": "python",
   "name": "python3"
  },
  "language_info": {
   "codemirror_mode": {
    "name": "ipython",
    "version": 3
   },
   "file_extension": ".py",
   "mimetype": "text/x-python",
   "name": "python",
   "nbconvert_exporter": "python",
   "pygments_lexer": "ipython3",
   "version": "3.7.6"
  }
 },
 "nbformat": 4,
 "nbformat_minor": 1
}
